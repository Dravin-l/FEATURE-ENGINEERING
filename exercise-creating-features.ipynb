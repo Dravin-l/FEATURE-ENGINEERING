{
 "cells": [
  {
   "cell_type": "markdown",
   "id": "858f0fac",
   "metadata": {
    "papermill": {
     "duration": 0.008287,
     "end_time": "2023-07-14T17:01:30.730875",
     "exception": false,
     "start_time": "2023-07-14T17:01:30.722588",
     "status": "completed"
    },
    "tags": []
   },
   "source": [
    "**This notebook is an exercise in the [Feature Engineering](https://www.kaggle.com/learn/feature-engineering) course.  You can reference the tutorial at [this link](https://www.kaggle.com/ryanholbrook/creating-features).**\n",
    "\n",
    "---\n"
   ]
  },
  {
   "cell_type": "markdown",
   "id": "600d0a66",
   "metadata": {
    "papermill": {
     "duration": 0.006993,
     "end_time": "2023-07-14T17:01:30.745523",
     "exception": false,
     "start_time": "2023-07-14T17:01:30.738530",
     "status": "completed"
    },
    "tags": []
   },
   "source": [
    "# Introduction #\n",
    "\n",
    "In this exercise you'll start developing the features you identified in Exercise 2 as having the most potential. As you work through this exercise, you might take a moment to look at the data documentation again and consider whether the features we're creating make sense from a real-world perspective, and whether there are any useful combinations that stand out to you.\n",
    "\n",
    "Run this cell to set everything up!"
   ]
  },
  {
   "cell_type": "code",
   "execution_count": 1,
   "id": "1ff3425d",
   "metadata": {
    "execution": {
     "iopub.execute_input": "2023-07-14T17:01:30.763394Z",
     "iopub.status.busy": "2023-07-14T17:01:30.762630Z",
     "iopub.status.idle": "2023-07-14T17:01:32.547786Z",
     "shell.execute_reply": "2023-07-14T17:01:32.546427Z"
    },
    "papermill": {
     "duration": 1.798229,
     "end_time": "2023-07-14T17:01:32.551176",
     "exception": false,
     "start_time": "2023-07-14T17:01:30.752947",
     "status": "completed"
    },
    "tags": []
   },
   "outputs": [
    {
     "name": "stderr",
     "output_type": "stream",
     "text": [
      "/opt/conda/lib/python3.10/site-packages/scipy/__init__.py:146: UserWarning: A NumPy version >=1.16.5 and <1.23.0 is required for this version of SciPy (detected version 1.23.5\n",
      "  warnings.warn(f\"A NumPy version >={np_minversion} and <{np_maxversion}\"\n"
     ]
    }
   ],
   "source": [
    "# Setup feedback system\n",
    "from learntools.core import binder\n",
    "binder.bind(globals())\n",
    "from learntools.feature_engineering_new.ex3 import *\n",
    "\n",
    "import numpy as np\n",
    "import pandas as pd\n",
    "from sklearn.model_selection import cross_val_score\n",
    "from xgboost import XGBRegressor\n",
    "\n",
    "\n",
    "def score_dataset(X, y, model=XGBRegressor()):\n",
    "    # Label encoding for categoricals\n",
    "    for colname in X.select_dtypes([\"category\", \"object\"]):\n",
    "        X[colname], _ = X[colname].factorize()\n",
    "    # Metric for Housing competition is RMSLE (Root Mean Squared Log Error)\n",
    "    score = cross_val_score(\n",
    "        model, X, y, cv=5, scoring=\"neg_mean_squared_log_error\",\n",
    "    )\n",
    "    score = -1 * score.mean()\n",
    "    score = np.sqrt(score)\n",
    "    return score\n",
    "\n",
    "\n",
    "# Prepare data\n",
    "df = pd.read_csv(\"../input/fe-course-data/ames.csv\")\n",
    "X = df.copy()\n",
    "y = X.pop(\"SalePrice\")"
   ]
  },
  {
   "cell_type": "markdown",
   "id": "16c9640e",
   "metadata": {
    "papermill": {
     "duration": 0.00729,
     "end_time": "2023-07-14T17:01:32.566274",
     "exception": false,
     "start_time": "2023-07-14T17:01:32.558984",
     "status": "completed"
    },
    "tags": []
   },
   "source": [
    "-------------------------------------------------------------------------------\n",
    "\n",
    "Let's start with a few mathematical combinations. We'll focus on features describing areas -- having the same units (square-feet) makes it easy to combine them in sensible ways. Since we're using XGBoost (a tree-based model), we'll focus on ratios and sums.\n",
    "\n",
    "# 1) Create Mathematical Transforms\n",
    "\n",
    "Create the following features:\n",
    "\n",
    "- `LivLotRatio`: the ratio of `GrLivArea` to `LotArea`\n",
    "- `Spaciousness`: the sum of `FirstFlrSF` and `SecondFlrSF` divided by `TotRmsAbvGrd`\n",
    "- `TotalOutsideSF`: the sum of `WoodDeckSF`, `OpenPorchSF`, `EnclosedPorch`, `Threeseasonporch`, and `ScreenPorch`"
   ]
  },
  {
   "cell_type": "code",
   "execution_count": 2,
   "id": "c2a2e36c",
   "metadata": {
    "execution": {
     "iopub.execute_input": "2023-07-14T17:01:32.584023Z",
     "iopub.status.busy": "2023-07-14T17:01:32.583241Z",
     "iopub.status.idle": "2023-07-14T17:01:32.611045Z",
     "shell.execute_reply": "2023-07-14T17:01:32.609900Z"
    },
    "lines_to_next_cell": 0,
    "papermill": {
     "duration": 0.040802,
     "end_time": "2023-07-14T17:01:32.614434",
     "exception": false,
     "start_time": "2023-07-14T17:01:32.573632",
     "status": "completed"
    },
    "tags": []
   },
   "outputs": [
    {
     "data": {
      "application/javascript": [
       "parent.postMessage({\"jupyterEvent\": \"custom.exercise_interaction\", \"data\": {\"outcomeType\": 1, \"valueTowardsCompletion\": 0.2, \"interactionType\": 1, \"questionType\": 2, \"questionId\": \"1_Q1\", \"learnToolsVersion\": \"0.3.4\", \"failureMessage\": \"\", \"exceptionClass\": \"\", \"trace\": \"\"}}, \"*\")"
      ],
      "text/plain": [
       "<IPython.core.display.Javascript object>"
      ]
     },
     "metadata": {},
     "output_type": "display_data"
    },
    {
     "data": {
      "text/markdown": [
       "<span style=\"color:#33cc33\">Correct</span>"
      ],
      "text/plain": [
       "Correct"
      ]
     },
     "metadata": {},
     "output_type": "display_data"
    }
   ],
   "source": [
    "# YOUR CODE HERE\n",
    "X_1 = pd.DataFrame()  # dataframe to hold new features\n",
    "\n",
    "X_1[\"LivLotRatio\"] = df.GrLivArea / df.LotArea\n",
    "X_1[\"Spaciousness\"] = (df.FirstFlrSF + df.SecondFlrSF) / df.TotRmsAbvGrd\n",
    "X_1[\"TotalOutsideSF\"] = df.WoodDeckSF + df.OpenPorchSF + df.EnclosedPorch + df.Threeseasonporch + df.ScreenPorch\n",
    "\n",
    "# Check your answer\n",
    "q_1.check()"
   ]
  },
  {
   "cell_type": "code",
   "execution_count": 3,
   "id": "b9756af0",
   "metadata": {
    "execution": {
     "iopub.execute_input": "2023-07-14T17:01:32.633238Z",
     "iopub.status.busy": "2023-07-14T17:01:32.632409Z",
     "iopub.status.idle": "2023-07-14T17:01:32.637232Z",
     "shell.execute_reply": "2023-07-14T17:01:32.636418Z"
    },
    "lines_to_next_cell": 0,
    "papermill": {
     "duration": 0.016964,
     "end_time": "2023-07-14T17:01:32.639567",
     "exception": false,
     "start_time": "2023-07-14T17:01:32.622603",
     "status": "completed"
    },
    "tags": []
   },
   "outputs": [],
   "source": [
    "# Lines below will give you a hint or solution code\n",
    "#q_1.hint()\n",
    "#q_1.solution()"
   ]
  },
  {
   "cell_type": "markdown",
   "id": "ab335176",
   "metadata": {
    "papermill": {
     "duration": 0.007616,
     "end_time": "2023-07-14T17:01:32.654962",
     "exception": false,
     "start_time": "2023-07-14T17:01:32.647346",
     "status": "completed"
    },
    "tags": []
   },
   "source": [
    "-------------------------------------------------------------------------------\n",
    "\n",
    "If you've discovered an interaction effect between a numeric feature and a categorical feature, you might want to model it explicitly using a one-hot encoding, like so:\n",
    "\n",
    "```\n",
    "# One-hot encode Categorical feature, adding a column prefix \"Cat\"\n",
    "X_new = pd.get_dummies(df.Categorical, prefix=\"Cat\")\n",
    "\n",
    "# Multiply row-by-row\n",
    "X_new = X_new.mul(df.Continuous, axis=0)\n",
    "\n",
    "# Join the new features to the feature set\n",
    "X = X.join(X_new)\n",
    "```\n",
    "\n",
    "# 2) Interaction with a Categorical\n",
    "\n",
    "We discovered an interaction between `BldgType` and `GrLivArea` in Exercise 2. Now create their interaction features."
   ]
  },
  {
   "cell_type": "code",
   "execution_count": 4,
   "id": "fe99dc12",
   "metadata": {
    "execution": {
     "iopub.execute_input": "2023-07-14T17:01:32.672361Z",
     "iopub.status.busy": "2023-07-14T17:01:32.671871Z",
     "iopub.status.idle": "2023-07-14T17:01:32.690482Z",
     "shell.execute_reply": "2023-07-14T17:01:32.689195Z"
    },
    "lines_to_next_cell": 0,
    "papermill": {
     "duration": 0.030412,
     "end_time": "2023-07-14T17:01:32.693005",
     "exception": false,
     "start_time": "2023-07-14T17:01:32.662593",
     "status": "completed"
    },
    "tags": []
   },
   "outputs": [
    {
     "data": {
      "application/javascript": [
       "parent.postMessage({\"jupyterEvent\": \"custom.exercise_interaction\", \"data\": {\"outcomeType\": 1, \"valueTowardsCompletion\": 0.2, \"interactionType\": 1, \"questionType\": 2, \"questionId\": \"2_Q2\", \"learnToolsVersion\": \"0.3.4\", \"failureMessage\": \"\", \"exceptionClass\": \"\", \"trace\": \"\"}}, \"*\")"
      ],
      "text/plain": [
       "<IPython.core.display.Javascript object>"
      ]
     },
     "metadata": {},
     "output_type": "display_data"
    },
    {
     "data": {
      "text/markdown": [
       "<span style=\"color:#33cc33\">Correct</span>"
      ],
      "text/plain": [
       "Correct"
      ]
     },
     "metadata": {},
     "output_type": "display_data"
    }
   ],
   "source": [
    "# YOUR CODE HERE\n",
    "# One-hot encode BldgType. Use `prefix=\"Bldg\"` in `get_dummies`\n",
    "X_2 = pd.get_dummies(df.BldgType, prefix=\"Bldg\")\n",
    "X_2 = X_2.mul(df.GrLivArea, axis=0)\n",
    "\n",
    "\n",
    "# Check your answer\n",
    "q_2.check()"
   ]
  },
  {
   "cell_type": "code",
   "execution_count": 5,
   "id": "4575326a",
   "metadata": {
    "execution": {
     "iopub.execute_input": "2023-07-14T17:01:32.714474Z",
     "iopub.status.busy": "2023-07-14T17:01:32.713332Z",
     "iopub.status.idle": "2023-07-14T17:01:32.718039Z",
     "shell.execute_reply": "2023-07-14T17:01:32.716972Z"
    },
    "lines_to_next_cell": 0,
    "papermill": {
     "duration": 0.016793,
     "end_time": "2023-07-14T17:01:32.720403",
     "exception": false,
     "start_time": "2023-07-14T17:01:32.703610",
     "status": "completed"
    },
    "tags": []
   },
   "outputs": [],
   "source": [
    "# Lines below will give you a hint or solution code\n",
    "#q_2.hint()\n",
    "#q_2.solution()"
   ]
  },
  {
   "cell_type": "markdown",
   "id": "493d8357",
   "metadata": {
    "lines_to_next_cell": 0,
    "papermill": {
     "duration": 0.00821,
     "end_time": "2023-07-14T17:01:32.736727",
     "exception": false,
     "start_time": "2023-07-14T17:01:32.728517",
     "status": "completed"
    },
    "tags": []
   },
   "source": [
    "# 3) Count Feature\n",
    "\n",
    "Let's try creating a feature that describes how many kinds of outdoor areas a dwelling has. Create a feature `PorchTypes` that counts how many of the following are greater than 0.0:\n",
    "\n",
    "```\n",
    "WoodDeckSF\n",
    "OpenPorchSF\n",
    "EnclosedPorch\n",
    "Threeseasonporch\n",
    "ScreenPorch\n",
    "```"
   ]
  },
  {
   "cell_type": "code",
   "execution_count": 6,
   "id": "31718e64",
   "metadata": {
    "execution": {
     "iopub.execute_input": "2023-07-14T17:01:32.754963Z",
     "iopub.status.busy": "2023-07-14T17:01:32.754548Z",
     "iopub.status.idle": "2023-07-14T17:01:32.773345Z",
     "shell.execute_reply": "2023-07-14T17:01:32.772194Z"
    },
    "lines_to_next_cell": 0,
    "papermill": {
     "duration": 0.03094,
     "end_time": "2023-07-14T17:01:32.775754",
     "exception": false,
     "start_time": "2023-07-14T17:01:32.744814",
     "status": "completed"
    },
    "tags": []
   },
   "outputs": [
    {
     "data": {
      "application/javascript": [
       "parent.postMessage({\"jupyterEvent\": \"custom.exercise_interaction\", \"data\": {\"outcomeType\": 1, \"valueTowardsCompletion\": 0.2, \"interactionType\": 1, \"questionType\": 2, \"questionId\": \"3_Q3\", \"learnToolsVersion\": \"0.3.4\", \"failureMessage\": \"\", \"exceptionClass\": \"\", \"trace\": \"\"}}, \"*\")"
      ],
      "text/plain": [
       "<IPython.core.display.Javascript object>"
      ]
     },
     "metadata": {},
     "output_type": "display_data"
    },
    {
     "data": {
      "text/markdown": [
       "<span style=\"color:#33cc33\">Correct</span>"
      ],
      "text/plain": [
       "Correct"
      ]
     },
     "metadata": {},
     "output_type": "display_data"
    }
   ],
   "source": [
    "X_3 = pd.DataFrame()\n",
    "\n",
    "# YOUR CODE HERE\n",
    "X_3 = pd.DataFrame()\n",
    "\n",
    "X_3[\"PorchTypes\"] = df[[\n",
    "    \"WoodDeckSF\",\n",
    "    \"OpenPorchSF\",\n",
    "    \"EnclosedPorch\",\n",
    "    \"Threeseasonporch\",\n",
    "    \"ScreenPorch\",\n",
    "]].gt(0.0).sum(axis=1)\n",
    "\n",
    "# Check your answer\n",
    "q_3.check()"
   ]
  },
  {
   "cell_type": "code",
   "execution_count": 7,
   "id": "0e77cf9c",
   "metadata": {
    "execution": {
     "iopub.execute_input": "2023-07-14T17:01:32.794962Z",
     "iopub.status.busy": "2023-07-14T17:01:32.794566Z",
     "iopub.status.idle": "2023-07-14T17:01:32.799560Z",
     "shell.execute_reply": "2023-07-14T17:01:32.798231Z"
    },
    "lines_to_next_cell": 0,
    "papermill": {
     "duration": 0.01755,
     "end_time": "2023-07-14T17:01:32.801975",
     "exception": false,
     "start_time": "2023-07-14T17:01:32.784425",
     "status": "completed"
    },
    "tags": []
   },
   "outputs": [],
   "source": [
    "# Lines below will give you a hint or solution code\n",
    "#q_3.hint()\n",
    "#q_3.solution()"
   ]
  },
  {
   "cell_type": "markdown",
   "id": "52f4d593",
   "metadata": {
    "papermill": {
     "duration": 0.008162,
     "end_time": "2023-07-14T17:01:32.818798",
     "exception": false,
     "start_time": "2023-07-14T17:01:32.810636",
     "status": "completed"
    },
    "tags": []
   },
   "source": [
    "# 4) Break Down a Categorical Feature\n",
    "\n",
    "`MSSubClass` describes the type of a dwelling:"
   ]
  },
  {
   "cell_type": "code",
   "execution_count": 8,
   "id": "02fd04bd",
   "metadata": {
    "execution": {
     "iopub.execute_input": "2023-07-14T17:01:32.838545Z",
     "iopub.status.busy": "2023-07-14T17:01:32.837175Z",
     "iopub.status.idle": "2023-07-14T17:01:32.847908Z",
     "shell.execute_reply": "2023-07-14T17:01:32.846718Z"
    },
    "papermill": {
     "duration": 0.023056,
     "end_time": "2023-07-14T17:01:32.850214",
     "exception": false,
     "start_time": "2023-07-14T17:01:32.827158",
     "status": "completed"
    },
    "tags": []
   },
   "outputs": [
    {
     "data": {
      "text/plain": [
       "array(['One_Story_1946_and_Newer_All_Styles', 'Two_Story_1946_and_Newer',\n",
       "       'One_Story_PUD_1946_and_Newer',\n",
       "       'One_and_Half_Story_Finished_All_Ages', 'Split_Foyer',\n",
       "       'Two_Story_PUD_1946_and_Newer', 'Split_or_Multilevel',\n",
       "       'One_Story_1945_and_Older', 'Duplex_All_Styles_and_Ages',\n",
       "       'Two_Family_conversion_All_Styles_and_Ages',\n",
       "       'One_and_Half_Story_Unfinished_All_Ages',\n",
       "       'Two_Story_1945_and_Older', 'Two_and_Half_Story_All_Ages',\n",
       "       'One_Story_with_Finished_Attic_All_Ages',\n",
       "       'PUD_Multilevel_Split_Level_Foyer',\n",
       "       'One_and_Half_Story_PUD_All_Ages'], dtype=object)"
      ]
     },
     "execution_count": 8,
     "metadata": {},
     "output_type": "execute_result"
    }
   ],
   "source": [
    "df.MSSubClass.unique()"
   ]
  },
  {
   "cell_type": "markdown",
   "id": "120d93a7",
   "metadata": {
    "papermill": {
     "duration": 0.008337,
     "end_time": "2023-07-14T17:01:32.867297",
     "exception": false,
     "start_time": "2023-07-14T17:01:32.858960",
     "status": "completed"
    },
    "tags": []
   },
   "source": [
    "You can see that there is a more general categorization described (roughly) by the first word of each category. Create a feature containing only these first words by splitting `MSSubClass` at the first underscore `_`. (Hint: In the `split` method use an argument `n=1`.)"
   ]
  },
  {
   "cell_type": "code",
   "execution_count": 9,
   "id": "50390b49",
   "metadata": {
    "execution": {
     "iopub.execute_input": "2023-07-14T17:01:32.888166Z",
     "iopub.status.busy": "2023-07-14T17:01:32.887682Z",
     "iopub.status.idle": "2023-07-14T17:01:32.917652Z",
     "shell.execute_reply": "2023-07-14T17:01:32.916779Z"
    },
    "lines_to_next_cell": 0,
    "papermill": {
     "duration": 0.042909,
     "end_time": "2023-07-14T17:01:32.919823",
     "exception": false,
     "start_time": "2023-07-14T17:01:32.876914",
     "status": "completed"
    },
    "tags": []
   },
   "outputs": [
    {
     "data": {
      "application/javascript": [
       "parent.postMessage({\"jupyterEvent\": \"custom.exercise_interaction\", \"data\": {\"outcomeType\": 1, \"valueTowardsCompletion\": 0.2, \"interactionType\": 1, \"questionType\": 2, \"questionId\": \"4_Q4\", \"learnToolsVersion\": \"0.3.4\", \"failureMessage\": \"\", \"exceptionClass\": \"\", \"trace\": \"\"}}, \"*\")"
      ],
      "text/plain": [
       "<IPython.core.display.Javascript object>"
      ]
     },
     "metadata": {},
     "output_type": "display_data"
    },
    {
     "data": {
      "text/markdown": [
       "<span style=\"color:#33cc33\">Correct</span>"
      ],
      "text/plain": [
       "Correct"
      ]
     },
     "metadata": {},
     "output_type": "display_data"
    }
   ],
   "source": [
    "X_4 = pd.DataFrame()\n",
    "\n",
    "# YOUR CODE HERE\n",
    "X_4[\"MSClass\"] = df.MSSubClass.str.split(\"_\", n=1, expand=True)[0]\n",
    "\n",
    "# Check your answer\n",
    "q_4.check()"
   ]
  },
  {
   "cell_type": "code",
   "execution_count": 10,
   "id": "7281fff3",
   "metadata": {
    "execution": {
     "iopub.execute_input": "2023-07-14T17:01:32.940488Z",
     "iopub.status.busy": "2023-07-14T17:01:32.939748Z",
     "iopub.status.idle": "2023-07-14T17:01:32.945454Z",
     "shell.execute_reply": "2023-07-14T17:01:32.944057Z"
    },
    "lines_to_next_cell": 0,
    "papermill": {
     "duration": 0.018695,
     "end_time": "2023-07-14T17:01:32.947720",
     "exception": false,
     "start_time": "2023-07-14T17:01:32.929025",
     "status": "completed"
    },
    "tags": []
   },
   "outputs": [],
   "source": [
    "# Lines below will give you a hint or solution code\n",
    "#q_4.hint()\n",
    "#q_4.solution()"
   ]
  },
  {
   "cell_type": "markdown",
   "id": "491b5d65",
   "metadata": {
    "papermill": {
     "duration": 0.008829,
     "end_time": "2023-07-14T17:01:32.965991",
     "exception": false,
     "start_time": "2023-07-14T17:01:32.957162",
     "status": "completed"
    },
    "tags": []
   },
   "source": [
    "# 5) Use a Grouped Transform\n",
    "\n",
    "The value of a home often depends on how it compares to typical homes in its neighborhood. Create a feature `MedNhbdArea` that describes the *median* of `GrLivArea` grouped on `Neighborhood`."
   ]
  },
  {
   "cell_type": "code",
   "execution_count": 11,
   "id": "8ccb5d9f",
   "metadata": {
    "execution": {
     "iopub.execute_input": "2023-07-14T17:01:32.987578Z",
     "iopub.status.busy": "2023-07-14T17:01:32.986225Z",
     "iopub.status.idle": "2023-07-14T17:01:33.008532Z",
     "shell.execute_reply": "2023-07-14T17:01:33.007580Z"
    },
    "lines_to_next_cell": 0,
    "papermill": {
     "duration": 0.035128,
     "end_time": "2023-07-14T17:01:33.010747",
     "exception": false,
     "start_time": "2023-07-14T17:01:32.975619",
     "status": "completed"
    },
    "tags": []
   },
   "outputs": [
    {
     "data": {
      "application/javascript": [
       "parent.postMessage({\"jupyterEvent\": \"custom.exercise_interaction\", \"data\": {\"outcomeType\": 1, \"valueTowardsCompletion\": 0.2, \"interactionType\": 1, \"questionType\": 2, \"questionId\": \"5_Q5\", \"learnToolsVersion\": \"0.3.4\", \"failureMessage\": \"\", \"exceptionClass\": \"\", \"trace\": \"\"}}, \"*\")"
      ],
      "text/plain": [
       "<IPython.core.display.Javascript object>"
      ]
     },
     "metadata": {},
     "output_type": "display_data"
    },
    {
     "data": {
      "text/markdown": [
       "<span style=\"color:#33cc33\">Correct</span>"
      ],
      "text/plain": [
       "Correct"
      ]
     },
     "metadata": {},
     "output_type": "display_data"
    }
   ],
   "source": [
    "X_5 = pd.DataFrame()\n",
    "\n",
    "# YOUR CODE HERE\n",
    "X_5[\"MedNhbdArea\"] = df.groupby(\"Neighborhood\")[\"GrLivArea\"].transform(\"median\")\n",
    "\n",
    "# Check your answer\n",
    "q_5.check()"
   ]
  },
  {
   "cell_type": "code",
   "execution_count": 12,
   "id": "e04d779f",
   "metadata": {
    "execution": {
     "iopub.execute_input": "2023-07-14T17:01:33.032596Z",
     "iopub.status.busy": "2023-07-14T17:01:33.031238Z",
     "iopub.status.idle": "2023-07-14T17:01:33.037012Z",
     "shell.execute_reply": "2023-07-14T17:01:33.035965Z"
    },
    "lines_to_next_cell": 0,
    "papermill": {
     "duration": 0.01929,
     "end_time": "2023-07-14T17:01:33.039461",
     "exception": false,
     "start_time": "2023-07-14T17:01:33.020171",
     "status": "completed"
    },
    "tags": []
   },
   "outputs": [],
   "source": [
    "# Lines below will give you a hint or solution code\n",
    "#q_5.hint()\n",
    "#q_5.solution()"
   ]
  },
  {
   "cell_type": "markdown",
   "id": "bfa6b8ed",
   "metadata": {
    "papermill": {
     "duration": 0.009142,
     "end_time": "2023-07-14T17:01:33.058461",
     "exception": false,
     "start_time": "2023-07-14T17:01:33.049319",
     "status": "completed"
    },
    "tags": []
   },
   "source": [
    "Now you've made your first new feature set! If you like, you can run the cell below to score the model with all of your new features added:"
   ]
  },
  {
   "cell_type": "code",
   "execution_count": 13,
   "id": "44b47ac3",
   "metadata": {
    "execution": {
     "iopub.execute_input": "2023-07-14T17:01:33.079752Z",
     "iopub.status.busy": "2023-07-14T17:01:33.079050Z",
     "iopub.status.idle": "2023-07-14T17:01:37.394560Z",
     "shell.execute_reply": "2023-07-14T17:01:37.393337Z"
    },
    "papermill": {
     "duration": 4.329488,
     "end_time": "2023-07-14T17:01:37.397312",
     "exception": false,
     "start_time": "2023-07-14T17:01:33.067824",
     "status": "completed"
    },
    "tags": []
   },
   "outputs": [
    {
     "data": {
      "text/plain": [
       "0.13865658070461215"
      ]
     },
     "execution_count": 13,
     "metadata": {},
     "output_type": "execute_result"
    }
   ],
   "source": [
    "X_new = X.join([X_1, X_2, X_3, X_4, X_5])\n",
    "score_dataset(X_new, y)"
   ]
  },
  {
   "cell_type": "markdown",
   "id": "fe7610c5",
   "metadata": {
    "papermill": {
     "duration": 0.009184,
     "end_time": "2023-07-14T17:01:37.416741",
     "exception": false,
     "start_time": "2023-07-14T17:01:37.407557",
     "status": "completed"
    },
    "tags": []
   },
   "source": [
    "# Keep Going #\n",
    "\n",
    "[**Untangle spatial relationships**](https://www.kaggle.com/ryanholbrook/clustering-with-k-means) by adding cluster labels to your dataset."
   ]
  },
  {
   "cell_type": "markdown",
   "id": "1a523cb2",
   "metadata": {
    "papermill": {
     "duration": 0.009282,
     "end_time": "2023-07-14T17:01:37.435483",
     "exception": false,
     "start_time": "2023-07-14T17:01:37.426201",
     "status": "completed"
    },
    "tags": []
   },
   "source": [
    "---\n",
    "\n",
    "\n",
    "\n",
    "\n",
    "*Have questions or comments? Visit the [course discussion forum](https://www.kaggle.com/learn/feature-engineering/discussion) to chat with other learners.*"
   ]
  }
 ],
 "metadata": {
  "kernelspec": {
   "display_name": "Python 3",
   "language": "python",
   "name": "python3"
  },
  "language_info": {
   "codemirror_mode": {
    "name": "ipython",
    "version": 3
   },
   "file_extension": ".py",
   "mimetype": "text/x-python",
   "name": "python",
   "nbconvert_exporter": "python",
   "pygments_lexer": "ipython3",
   "version": "3.10.12"
  },
  "papermill": {
   "default_parameters": {},
   "duration": 20.874503,
   "end_time": "2023-07-14T17:01:39.707938",
   "environment_variables": {},
   "exception": null,
   "input_path": "__notebook__.ipynb",
   "output_path": "__notebook__.ipynb",
   "parameters": {},
   "start_time": "2023-07-14T17:01:18.833435",
   "version": "2.4.0"
  }
 },
 "nbformat": 4,
 "nbformat_minor": 5
}
